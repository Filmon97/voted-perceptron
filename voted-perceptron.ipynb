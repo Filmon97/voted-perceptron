{
 "cells": [
  {
   "cell_type": "code",
   "execution_count": null,
   "metadata": {},
   "outputs": [],
   "source": [
    "!git clone https://github.com/Filmon97/voted-perceptron.git\n",
    "\n",
    "# Change the working directory to the repo root.\n",
    "%cd voted-perceptron\n",
    "\n",
    "# Add the repo root to the Python path.\n",
    "import sys, os\n",
    "sys.path.append(os.getcwd())\n"
   ]
  },
  {
   "cell_type": "code",
   "execution_count": null,
   "metadata": {},
   "outputs": [],
   "source": [
    "# install the packages\n",
    "pip install -r requirements.txt"
   ]
  },
  {
   "cell_type": "code",
   "execution_count": null,
   "metadata": {},
   "outputs": [],
   "source": [
    "# install the last version of numba\n",
    "pip install --upgrade numba"
   ]
  },
  {
   "cell_type": "markdown",
   "metadata": {},
   "source": [
    "Let's try if the mnist dataset is loaded correctly"
   ]
  },
  {
   "cell_type": "code",
   "execution_count": null,
   "metadata": {},
   "outputs": [],
   "source": [
    "import matplotlib.pyplot as plt\n",
    "from utils import (MnistDataset)\n",
    "import numpy as np\n",
    "md = MnistDataset()\n",
    "X_train, y_train = md.train_dataset()\n",
    "X_test, y_test = md.test_dataset()\n",
    "\n",
    "first_image = X_train[0,:]\n",
    "first_label = y_train[0]\n",
    "\n",
    "# 784 columns correspond to 28x28 image\n",
    "plottable_image = np.reshape(first_image, (28, 28))\n",
    "# Plot the image\n",
    "plt.imshow(plottable_image, cmap='gray_r')\n",
    "plt.title('Digit Label: {}'.format(first_label))\n",
    "\n",
    "plt.show()"
   ]
  },
  {
   "cell_type": "markdown",
   "metadata": {},
   "source": [
    "Let's try the voted perceptron algorithm"
   ]
  },
  {
   "cell_type": "code",
   "execution_count": null,
   "metadata": {},
   "outputs": [],
   "source": [
    "# build the gram matrix\n",
    "from high_performance import(\n",
    "    gram_build\n",
    ")\n",
    "kernel = 1\n",
    "Gram_train = gram_build(X_train,kernel)\n",
    "# %reset Gram\n",
    "# you need to accept the 'GET MORE RAM'\n",
    "# it will takes a couple of minute to build the gram matrix"
   ]
  },
  {
   "cell_type": "code",
   "execution_count": null,
   "metadata": {},
   "outputs": [],
   "source": [
    "import numpy as np\n",
    "from utils import (\n",
    "    save_models,\n",
    "    tqdm,\n",
    "    gram_train_and_store\n",
    ")\n",
    "\n",
    "print(\"training the perceptron\")\n",
    "print(\"epoch: from 0.1 to 0.9 kernel:{}\".format(kernel))\n",
    "x1 = np.arange(0.1, 1, 0.1)\n",
    "for i in tqdm(x1):\n",
    "  gram_train_and_store(X_train, y_train, i, kernel)"
   ]
  },
  {
   "cell_type": "code",
   "execution_count": null,
   "metadata": {},
   "outputs": [],
   "source": [
    "print(\"epoch: from 1 to 10 kernel:{}\".format(kernel))\n",
    "x1 = np.arange(1, 1, 11)\n",
    "for i in tqdm(x1):\n",
    "  gram_train_and_store(X_train, y_train, i, kernel)"
   ]
  }
 ],
 "metadata": {
  "kernelspec": {
   "display_name": "Python 3",
   "language": "python",
   "name": "python3"
  },
  "language_info": {
   "codemirror_mode": {
    "name": "ipython",
    "version": 3
   },
   "file_extension": ".py",
   "mimetype": "text/x-python",
   "name": "python",
   "nbconvert_exporter": "python",
   "pygments_lexer": "ipython3",
   "version": "3.7.4"
  }
 },
 "nbformat": 4,
 "nbformat_minor": 2
}
