{
 "cells": [
  {
   "cell_type": "code",
   "execution_count": null,
   "metadata": {},
   "outputs": [],
   "source": [
    "import pandas as pd\n",
    "from utils import *\n",
    "import matplotlib.pyplot as plt\n",
    "from main import *\n",
    "md = MnistDataset()\n",
    "X_train, y_train = md.train_dataset()\n",
    "X_test, y_test = md.test_dataset()\n",
    "    \n",
    "df_train = pd.DataFrame(X_train, index=range(X_train.shape[0]),\n",
    "                          columns=range(X_train.shape[1]))\n",
    "df_train_label = pd.DataFrame(y_train, index=range(y_train.shape[0]))\n",
    "\n",
    "df_test = pd.DataFrame(X_test, index=range(X_test.shape[0]),\n",
    "                          columns=range(X_test.shape[1]))\n",
    "df_test_label = pd.DataFrame(y_test, index=range(y_test.shape[0]))\n",
    "\n",
    "#display(df_train_label)\n",
    "first_image = df_train.iloc[0,:]\n",
    "first_label = y_train[0]\n",
    "#print(first_image)\n",
    "#print(first_label)\n",
    "\n",
    "# 784 columns correspond to 28x28 image\n",
    "plottable_image = np.reshape(first_image.values, (28, 28))\n",
    "# Plot the image\n",
    "plt.imshow(plottable_image, cmap='gray_r')\n",
    "plt.title('Digit Label: {}'.format(first_label))\n",
    "\n",
    "plt.show()"
   ]
  },
  {
   "cell_type": "markdown",
   "metadata": {},
   "source": [
    "Let's try the voted perceptron algorithm"
   ]
  },
  {
   "cell_type": "code",
   "execution_count": null,
   "metadata": {},
   "outputs": [],
   "source": [
    "# we take 100 samples and the we separate the 0 from the other numbers\n",
    "y = df_train_label[0:2000].values\n",
    "y = np.where(y == 0, 1, -1)\n",
    "X = df_train.iloc[0:2000, :].values\n",
    "v, c = train(X, y, 2)\n",
    "predicted_label = predict(v, c, df_test.iloc[3,:])\n",
    "true_label = y_test[3]\n",
    "print(\"Predicted label: {}\".format(\"0\" if predicted_label == 1 else \"not zero\"))\n",
    "print(\"True label: {}\".format(true_label))"
   ]
  },
  {
   "cell_type": "code",
   "execution_count": null,
   "metadata": {},
   "outputs": [],
   "source": [
    "# let's plot the test errors\n",
    "epochs = range(1,10)\n",
    "test_errors = []\n",
    "for i in epochs:\n",
    "    v = mnist_train(X_train[0:2000, :], y_train[0:2000], i)\n",
    "    test_errors.append(test_error(v, X_test[0:200, :], y_test[0:200]))\n",
    "plt.plot(epochs, test_errors)"
   ]
  },
  {
   "cell_type": "code",
   "execution_count": null,
   "metadata": {},
   "outputs": [],
   "source": []
  },
  {
   "cell_type": "code",
   "execution_count": null,
   "metadata": {},
   "outputs": [],
   "source": []
  }
 ],
 "metadata": {
  "kernelspec": {
   "display_name": "Python 3",
   "language": "python",
   "name": "python3"
  },
  "language_info": {
   "codemirror_mode": {
    "name": "ipython",
    "version": 3
   },
   "file_extension": ".py",
   "mimetype": "text/x-python",
   "name": "python",
   "nbconvert_exporter": "python",
   "pygments_lexer": "ipython3",
   "version": "3.7.4"
  }
 },
 "nbformat": 4,
 "nbformat_minor": 2
}
