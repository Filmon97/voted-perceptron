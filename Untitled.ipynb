{
 "cells": [
  {
   "cell_type": "code",
   "execution_count": 1,
   "metadata": {},
   "outputs": [
    {
     "data": {
      "image/png": "[encoded data removed]",
      "text/plain": [
       "<Figure size 432x288 with 1 Axes>"
      ]
     },
     "metadata": {
      "needs_background": "light"
     },
     "output_type": "display_data"
    }
   ],
   "source": [
    "import pandas as pd\n",
    "from utils import *\n",
    "import matplotlib.pyplot as plt\n",
    "from main import *\n",
    "md = MnistDataset()\n",
    "X_train, y_train = md.train_dataset()\n",
    "X_test, y_test = md.test_dataset()\n",
    "    \n",
    "df_train = pd.DataFrame(X_train, index=range(X_train.shape[0]),\n",
    "                          columns=range(X_train.shape[1]))\n",
    "df_train_label = pd.DataFrame(y_train, index=range(y_train.shape[0]))\n",
    "\n",
    "df_test = pd.DataFrame(X_test, index=range(X_test.shape[0]),\n",
    "                          columns=range(X_test.shape[1]))\n",
    "df_test_label = pd.DataFrame(y_test, index=range(y_test.shape[0]))\n",
    "\n",
    "#display(df_train_label)\n",
    "first_image = df_train.iloc[0,:]\n",
    "first_label = y_train[0]\n",
    "#print(first_image)\n",
    "#print(first_label)\n",
    "\n",
    "# 784 columns correspond to 28x28 image\n",
    "plottable_image = np.reshape(first_image.values, (28, 28))\n",
    "# Plot the image\n",
    "plt.imshow(plottable_image, cmap='gray_r')\n",
    "plt.title('Digit Label: {}'.format(first_label))\n",
    "\n",
    "plt.show()"
   ]
  },
  {
   "cell_type": "markdown",
   "metadata": {},
   "source": [
    "Let's try the voted perceptron algorithm"
   ]
  },
  {
   "cell_type": "code",
   "execution_count": null,
   "metadata": {},
   "outputs": [],
   "source": []
  },
  {
   "cell_type": "code",
   "execution_count": null,
   "metadata": {},
   "outputs": [],
   "source": []
  }
 ],
 "metadata": {
  "kernelspec": {
   "display_name": "Python 3",
   "language": "python",
   "name": "python3"
  },
  "language_info": {
   "codemirror_mode": {
    "name": "ipython",
    "version": 3
   },
   "file_extension": ".py",
   "mimetype": "text/x-python",
   "name": "python",
   "nbconvert_exporter": "python",
   "pygments_lexer": "ipython3",
   "version": "3.7.4"
  }
 },
 "nbformat": 4,
 "nbformat_minor": 2
}
