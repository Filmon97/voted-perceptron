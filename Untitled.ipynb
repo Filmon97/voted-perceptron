{
 "cells": [
  {
   "cell_type": "code",
   "execution_count": 1,
   "metadata": {},
   "outputs": [
    {
     "data": {
      "text/plain": [
       "<Figure size 640x480 with 1 Axes>"
      ]
     },
     "metadata": {},
     "output_type": "display_data"
    }
   ],
   "source": [
    "import pandas as pd\n",
    "from utils import *\n",
    "import matplotlib.pyplot as plt\n",
    "from main import *\n",
    "md = MnistDataset()\n",
    "X_train, y_train = md.train_dataset()\n",
    "X_test, y_test = md.test_dataset()\n",
    "    \n",
    "df_train = pd.DataFrame(X_train, index=range(X_train.shape[0]),\n",
    "                          columns=range(X_train.shape[1]))\n",
    "df_train_label = pd.DataFrame(y_train, index=range(y_train.shape[0]))\n",
    "\n",
    "df_test = pd.DataFrame(X_test, index=range(X_test.shape[0]),\n",
    "                          columns=range(X_test.shape[1]))\n",
    "df_test_label = pd.DataFrame(y_test, index=range(y_test.shape[0]))\n",
    "\n",
    "#display(df_train_label)\n",
    "first_image = df_train.iloc[0,:]\n",
    "first_label = y_train[0]\n",
    "#print(first_image)\n",
    "#print(first_label)\n",
    "\n",
    "# 784 columns correspond to 28x28 image\n",
    "plottable_image = np.reshape(first_image.values, (28, 28))\n",
    "# Plot the image\n",
    "plt.imshow(plottable_image, cmap='gray_r')\n",
    "plt.title('Digit Label: {}'.format(first_label))\n",
    "\n",
    "plt.show()"
   ]
  },
  {
   "cell_type": "markdown",
   "metadata": {},
   "source": [
    "Let's try the voted perceptron algorithm"
   ]
  },
  {
   "cell_type": "code",
   "execution_count": 2,
   "metadata": {},
   "outputs": [
    {
     "name": "stdout",
     "output_type": "stream",
     "text": [
      "Predicted label: 0\n",
      "True label: 0\n"
     ]
    }
   ],
   "source": [
    "# we take 100 samples and the we separate the 0 from the other numbers\n",
    "y = df_train_label[0:2000].values\n",
    "y = np.where(y == 0, 1, -1)\n",
    "X = df_train.iloc[0:2000, :].values\n",
    "v, c = train(X, y, 2)\n",
    "predicted_label = predict(v, c, df_test.iloc[3,:])\n",
    "true_label = y_test[3]\n",
    "print(\"Predicted label: {}\".format(\"0\" if predicted_label == 1 else \"not zero\"))\n",
    "print(\"True label: {}\".format(true_label))"
   ]
  },
  {
   "cell_type": "code",
   "execution_count": 3,
   "metadata": {},
   "outputs": [
    {
     "name": "stdout",
     "output_type": "stream",
     "text": [
      "training the perceptron algorithm on MNIST dataset\n",
      "2000 elements\n",
      "1 epochs\n",
      "#####################################################\n",
      "running one against all for the 0 class\n",
      "running one against all for the 1 class\n",
      "running one against all for the 2 class\n",
      "running one against all for the 3 class\n",
      "running one against all for the 4 class\n",
      "running one against all for the 5 class\n",
      "running one against all for the 6 class\n",
      "running one against all for the 7 class\n",
      "running one against all for the 8 class\n",
      "running one against all for the 9 class\n",
      "training the perceptron algorithm on MNIST dataset\n",
      "2000 elements\n",
      "2 epochs\n",
      "#####################################################\n",
      "running one against all for the 0 class\n",
      "running one against all for the 1 class\n",
      "running one against all for the 2 class\n",
      "running one against all for the 3 class\n",
      "running one against all for the 4 class\n",
      "running one against all for the 5 class\n",
      "running one against all for the 6 class\n",
      "running one against all for the 7 class\n",
      "running one against all for the 8 class\n",
      "running one against all for the 9 class\n",
      "training the perceptron algorithm on MNIST dataset\n",
      "2000 elements\n",
      "3 epochs\n",
      "#####################################################\n",
      "running one against all for the 0 class\n",
      "running one against all for the 1 class\n",
      "running one against all for the 2 class\n",
      "running one against all for the 3 class\n",
      "running one against all for the 4 class\n",
      "running one against all for the 5 class\n",
      "running one against all for the 6 class\n",
      "running one against all for the 7 class\n",
      "running one against all for the 8 class\n",
      "running one against all for the 9 class\n",
      "training the perceptron algorithm on MNIST dataset\n",
      "2000 elements\n",
      "4 epochs\n",
      "#####################################################\n",
      "running one against all for the 0 class\n",
      "running one against all for the 1 class\n",
      "running one against all for the 2 class\n",
      "running one against all for the 3 class\n",
      "running one against all for the 4 class\n",
      "running one against all for the 5 class\n",
      "running one against all for the 6 class\n",
      "running one against all for the 7 class\n",
      "running one against all for the 8 class\n",
      "running one against all for the 9 class\n",
      "training the perceptron algorithm on MNIST dataset\n",
      "2000 elements\n",
      "5 epochs\n",
      "#####################################################\n",
      "running one against all for the 0 class\n",
      "running one against all for the 1 class\n",
      "running one against all for the 2 class\n",
      "running one against all for the 3 class\n",
      "running one against all for the 4 class\n",
      "running one against all for the 5 class\n",
      "running one against all for the 6 class\n",
      "running one against all for the 7 class\n",
      "running one against all for the 8 class\n",
      "running one against all for the 9 class\n",
      "training the perceptron algorithm on MNIST dataset\n",
      "2000 elements\n",
      "6 epochs\n",
      "#####################################################\n",
      "running one against all for the 0 class\n",
      "running one against all for the 1 class\n",
      "running one against all for the 2 class\n",
      "running one against all for the 3 class\n",
      "running one against all for the 4 class\n",
      "running one against all for the 5 class\n",
      "running one against all for the 6 class\n",
      "running one against all for the 7 class\n",
      "running one against all for the 8 class\n",
      "running one against all for the 9 class\n",
      "training the perceptron algorithm on MNIST dataset\n",
      "2000 elements\n",
      "7 epochs\n",
      "#####################################################\n",
      "running one against all for the 0 class\n",
      "running one against all for the 1 class\n",
      "running one against all for the 2 class\n",
      "running one against all for the 3 class\n",
      "running one against all for the 4 class\n",
      "running one against all for the 5 class\n",
      "running one against all for the 6 class\n",
      "running one against all for the 7 class\n",
      "running one against all for the 8 class\n",
      "running one against all for the 9 class\n",
      "training the perceptron algorithm on MNIST dataset\n",
      "2000 elements\n",
      "8 epochs\n",
      "#####################################################\n",
      "running one against all for the 0 class\n",
      "running one against all for the 1 class\n",
      "running one against all for the 2 class\n",
      "running one against all for the 3 class\n",
      "running one against all for the 4 class\n",
      "running one against all for the 5 class\n",
      "running one against all for the 6 class\n",
      "running one against all for the 7 class\n",
      "running one against all for the 8 class\n",
      "running one against all for the 9 class\n",
      "training the perceptron algorithm on MNIST dataset\n",
      "2000 elements\n",
      "9 epochs\n",
      "#####################################################\n",
      "running one against all for the 0 class\n",
      "running one against all for the 1 class\n",
      "running one against all for the 2 class\n",
      "running one against all for the 3 class\n",
      "running one against all for the 4 class\n",
      "running one against all for the 5 class\n",
      "running one against all for the 6 class\n",
      "running one against all for the 7 class\n",
      "running one against all for the 8 class\n",
      "running one against all for the 9 class\n",
      "9\n"
     ]
    },
    {
     "data": {
      "text/plain": [
       "[<matplotlib.lines.Line2D at 0x220bd282588>]"
      ]
     },
     "execution_count": 3,
     "metadata": {},
     "output_type": "execute_result"
    },
    {
     "data": {
      "image/png": "[encoded data removed]",
      "text/plain": [
       "<Figure size 432x288 with 1 Axes>"
      ]
     },
     "metadata": {
      "needs_background": "light"
     },
     "output_type": "display_data"
    }
   ],
   "source": [
    "# let's plot the test errors\n",
    "epochs = range(1,10)\n",
    "test_errors = []\n",
    "for i in epochs:\n",
    "    v = mnist_train(X_train[0:2000, :], y_train[0:2000], i)\n",
    "    test_errors.append(test_error(v, X_test[0:200, :], y_test[0:200]))\n",
    "print(len(test_errors))\n",
    "plt.plot(epochs, test_errors)"
   ]
  },
  {
   "cell_type": "code",
   "execution_count": null,
   "metadata": {},
   "outputs": [],
   "source": []
  }
 ],
 "metadata": {
  "kernelspec": {
   "display_name": "Python 3",
   "language": "python",
   "name": "python3"
  },
  "language_info": {
   "codemirror_mode": {
    "name": "ipython",
    "version": 3
   },
   "file_extension": ".py",
   "mimetype": "text/x-python",
   "name": "python",
   "nbconvert_exporter": "python",
   "pygments_lexer": "ipython3",
   "version": "3.7.4"
  }
 },
 "nbformat": 4,
 "nbformat_minor": 2
}
